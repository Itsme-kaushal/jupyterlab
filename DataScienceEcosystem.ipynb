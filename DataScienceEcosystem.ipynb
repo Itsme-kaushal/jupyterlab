{
 "cells": [
  {
   "cell_type": "markdown",
   "id": "2fe98561-e32e-4402-930f-08ba628c5a0f",
   "metadata": {},
   "source": [
    "#Data Science Tools and Ecosystem\n"
   ]
  },
  {
   "cell_type": "markdown",
   "id": "bfe08097-4db8-451e-9910-cef331e9afdd",
   "metadata": {},
   "source": [
    "#In this notebook, Data Science Tools and Ecosystem are summarized.\n"
   ]
  },
  {
   "cell_type": "markdown",
   "id": "138adee2-cb17-4315-a863-124ef32fb9ee",
   "metadata": {},
   "source": [
    "#Some of the popular languages that Data Scientists use are:\n",
    "1. R language\n",
    "2. Python\n",
    "3. SQL"
   ]
  },
  {
   "cell_type": "markdown",
   "id": "27e19a2d-f4f9-4800-95e1-41feb5ab88ba",
   "metadata": {},
   "source": [
    "#Some of the commonly used libraries used by Data Scientists include:\n",
    "\n",
    "1. numpy\n",
    "2. pandas\n",
    "3. ggplot2\n"
   ]
  },
  {
   "cell_type": "markdown",
   "id": "2783cfd5-f4b5-435f-9219-2da481a5ffe1",
   "metadata": {},
   "source": [
    "Data Science Tools\n",
    "| Category          | Tool                           | Description                                                   |\n",
    "|-------------------|--------------------------------|---------------------------------------------------------------|\n",
    "| **Programming**   | Python                         | General-purpose programming language for Data Science          |\n",
    "|                   | R                              | Statistical computing and graphics                               |\n",
    "|                   | Julia                          | High-performance language for technical computing               |\n",
    "| **Libraries**     | NumPy                          | Numerical computing with Python                                 |\n",
    "|                   | Pandas                         | Data manipulation and analysis in Python                        |\n",
    "|                   | Scikit-learn                   | Machine learning library for Python                             |\n",
    "| **Data Storage**  | SQL                            | Standard language for relational database management systems  |\n",
    "|                   | MongoDB                        | NoSQL database for unstructured data                            |\n",
    "|                   | Hadoop                         | Distributed storage and processing framework                    |\n",
    "| **Visualization** | Tableau                        | Business intelligence and data visualization tool              |\n",
    "|                   | Plotly                         | Interactive data visualization in Python and R                 |\n",
    "|                   | Seaborn                        | Statistical data visualization in Python                       |\n",
    "| **IDEs**          | Jupyter Notebook               | Interactive computing environment for creating notebooks       |\n",
    "|                   | RStudio                        | IDE for R programming language                                   |\n",
    "|                   | VSCode                         | Lightweight and extensible code editor                          |\n",
    "| **Version Control**| Git                           | Distributed version control system                              |\n",
    "|                   | GitHub                         | Web-based platform for version control and collaboration       |\n",
    "| **Cloud Platforms**| AWS                           | Amazon Web Services, cloud computing platform                    |\n",
    "|                   | Azure                         | Microsoft's cloud computing platform                            |\n",
    "|                   | Google Cloud Platform (GCP)   | Cloud computing services by Google                               |\n"
   ]
  },
  {
   "cell_type": "markdown",
   "id": "f5e853e8-4326-45e3-a4d6-2e9753c9a1ee",
   "metadata": {
    "tags": []
   },
   "source": [
    "# Below are a few examples of evaluating arithmetic expressions in Python\n",
    "## Basic Arithmetic Operations\n",
    "\n",
    "### Addition\n",
    "The sum of two numbers:\n",
    "```plaintext\n",
    "2 + 3 = 5\n",
    "subtraction\n",
    "4-5=1\n",
    "multiply\n",
    "3*2=6\n"
   ]
  },
  {
   "cell_type": "code",
   "execution_count": 1,
   "id": "74aff440-e004-49fa-9220-b838aa7e6a6e",
   "metadata": {
    "tags": []
   },
   "outputs": [
    {
     "data": {
      "text/plain": [
       "17"
      ]
     },
     "execution_count": 1,
     "metadata": {},
     "output_type": "execute_result"
    }
   ],
   "source": [
    "(3*4)+5\n",
    "#This a simple arithmetic expression to mutiply then add integers"
   ]
  },
  {
   "cell_type": "code",
   "execution_count": 2,
   "id": "07e4b11d-2931-4151-adfa-e59769c135ee",
   "metadata": {
    "tags": []
   },
   "outputs": [
    {
     "data": {
      "text/plain": [
       "3.3333333333333335"
      ]
     },
     "execution_count": 2,
     "metadata": {},
     "output_type": "execute_result"
    }
   ],
   "source": [
    "200/60\n",
    "#this code converts 200 minutes in minutes"
   ]
  },
  {
   "cell_type": "markdown",
   "id": "360b1b43-ede9-4604-87e1-e9068b893760",
   "metadata": {},
   "source": [
    "# Objectives\n",
    "\n",
    "**Objectives:**\n",
    "\n",
    "- Explore and understand basic arithmetic expressions.\n",
    "- Learn about popular programming languages and libraries for Data Science.\n",
    "- Understand the sliding window technique for solving specific problems.\n",
    "- Familiarize yourself with creating tables in Markdown.\n",
    "- Learn how to structure and organize a Jupyter Notebook effectively.\n"
   ]
  },
  {
   "cell_type": "markdown",
   "id": "7db4bd13-b740-4137-9bc7-4fe1fcb8b4ac",
   "metadata": {
    "tags": []
   },
   "source": [
    "## Author\n",
    "\n",
    "Kaushal Singh\n"
   ]
  }
 ],
 "metadata": {
  "kernelspec": {
   "display_name": "Python",
   "language": "python",
   "name": "conda-env-python-py"
  },
  "language_info": {
   "codemirror_mode": {
    "name": "ipython",
    "version": 3
   },
   "file_extension": ".py",
   "mimetype": "text/x-python",
   "name": "python",
   "nbconvert_exporter": "python",
   "pygments_lexer": "ipython3",
   "version": "3.7.12"
  }
 },
 "nbformat": 4,
 "nbformat_minor": 5
}
